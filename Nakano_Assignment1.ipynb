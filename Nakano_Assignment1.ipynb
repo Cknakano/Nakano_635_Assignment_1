{
 "cells": [
  {
   "metadata": {
    "ExecuteTime": {
     "end_time": "2025-02-05T01:52:56.810728Z",
     "start_time": "2025-02-05T01:52:56.807908Z"
    }
   },
   "cell_type": "code",
   "source": [
    "# Import necessary libraries\n",
    "import pandas as pd\n",
    "import matplotlib.pyplot as plt\n",
    "import seaborn as sns\n",
    "from sklearn.datasets import load_breast_cancer\n",
    "from sklearn.model_selection import train_test_split\n",
    "from sklearn.preprocessing import StandardScaler\n",
    "from sklearn.neighbors import KNeighborsClassifier\n",
    "from sklearn.tree import DecisionTreeClassifier\n",
    "from sklearn.ensemble import RandomForestClassifier\n",
    "from sklearn.metrics import accuracy_score, classification_report\n",
    "from sklearn.metrics import confusion_matrix"
   ],
   "id": "fbc121e30a2defb3",
   "outputs": [],
   "execution_count": 106
  },
  {
   "metadata": {
    "ExecuteTime": {
     "end_time": "2025-02-05T01:52:56.839757Z",
     "start_time": "2025-02-05T01:52:56.832267Z"
    }
   },
   "cell_type": "code",
   "source": [
    "# Load the dataset\n",
    "data = load_breast_cancer()\n",
    "df = pd.DataFrame(data.data, columns=data.feature_names)\n",
    "df['target'] = data.target  # Add the target column\n",
    "\n",
    "# Split the dataset into features (X) and target variable (y)\n",
    "X = df.drop(columns=['target'])  # Features\n",
    "y = df['target']  # Target\n",
    "\n",
    "# Partition into training (80%) and testing (20%) sets\n",
    "X_train, X_test, y_train, y_test = train_test_split(X, y, test_size=0.20, random_state=0, stratify=y)\n",
    "\n",
    "# Scale features using StandardScaler (Only fit on training data)\n",
    "scaler = StandardScaler()\n",
    "X_train_scaled = scaler.fit_transform(X_train)  # Fit and transform training data\n",
    "X_test_scaled = scaler.transform(X_test)  # Transform test data\n",
    "\n",
    "# Print shape to verify\n",
    "print(f\"Training set: {X_train.shape}, Test set: {X_test.shape}\")"
   ],
   "id": "f7fe76e489c5f994",
   "outputs": [
    {
     "name": "stdout",
     "output_type": "stream",
     "text": [
      "Training set: (455, 30), Test set: (114, 30)\n"
     ]
    }
   ],
   "execution_count": 107
  },
  {
   "metadata": {
    "ExecuteTime": {
     "end_time": "2025-02-05T01:52:56.921981Z",
     "start_time": "2025-02-05T01:52:56.843060Z"
    }
   },
   "cell_type": "code",
   "source": [
    "# 1. Train K-Nearest Neighbors (KNN) with n_neighbors=5\n",
    "knn = KNeighborsClassifier(n_neighbors=5)\n",
    "knn.fit(X_train_scaled, y_train)  # Train on scaled data\n",
    "\n",
    "# 2. Train Decision Tree with default parameters\n",
    "dt = DecisionTreeClassifier()\n",
    "dt.fit(X_train, y_train)\n",
    "\n",
    "# 3. Train Random Forest with 100 trees\n",
    "rf = RandomForestClassifier(n_estimators=100)\n",
    "rf.fit(X_train, y_train)\n",
    "\n",
    "# Make predictions\n",
    "y_pred_knn = knn.predict(X_test_scaled)\n",
    "y_pred_dt = dt.predict(X_test)\n",
    "y_pred_rf = rf.predict(X_test)\n",
    "\n",
    "# Evaluate models using accuracy score\n",
    "accuracy_knn = accuracy_score(y_test, y_pred_knn)\n",
    "accuracy_dt = accuracy_score(y_test, y_pred_dt)\n",
    "accuracy_rf = accuracy_score(y_test, y_pred_rf)\n",
    "\n",
    "# Display accuracy\n",
    "print(f\"KNN Accuracy: {accuracy_knn:.4f}\")\n",
    "print(f\"Decision Tree Accuracy: {accuracy_dt:.4f}\")\n",
    "print(f\"Random Forest Accuracy: {accuracy_rf:.4f}\")\n",
    "\n",
    "# Display classification reports\n",
    "# Class 0 (Malignant), Class 1 (Benign)\n",
    "# Precision: The proportion of correctly predicted positive observations to total predicted positives. A high precision means fewer false positives.\n",
    "# Recall (Sensitivity or True Positive Rate): The proportion of correctly predicted positive observations to all actual positives. A high recall means fewer false negatives.\n",
    "# F1-Score: The harmonic mean of precision and recall. A high F1-score indicates a good balance between precision and recall.\n",
    "# Accuracy: The proportion of correctly classified instances. It gives an overall measure of performance.\n",
    "# Support: The number of actual occurrences of each class in the test dataset.\n",
    "print(\"\\nKNN Classification Report:\\n\", classification_report(y_test, y_pred_knn))\n",
    "print(\"\\nDecision Tree Classification Report:\\n\", classification_report(y_test, y_pred_dt))\n",
    "print(\"\\nRandom Forest Classification Report:\\n\", classification_report(y_test, y_pred_rf))"
   ],
   "id": "3d3cf9c1ddbbadc2",
   "outputs": [
    {
     "name": "stdout",
     "output_type": "stream",
     "text": [
      "KNN Accuracy: 0.9561\n",
      "Decision Tree Accuracy: 0.9123\n",
      "Random Forest Accuracy: 0.9474\n",
      "\n",
      "KNN Classification Report:\n",
      "               precision    recall  f1-score   support\n",
      "\n",
      "           0       0.97      0.90      0.94        42\n",
      "           1       0.95      0.99      0.97        72\n",
      "\n",
      "    accuracy                           0.96       114\n",
      "   macro avg       0.96      0.95      0.95       114\n",
      "weighted avg       0.96      0.96      0.96       114\n",
      "\n",
      "\n",
      "Decision Tree Classification Report:\n",
      "               precision    recall  f1-score   support\n",
      "\n",
      "           0       0.86      0.90      0.88        42\n",
      "           1       0.94      0.92      0.93        72\n",
      "\n",
      "    accuracy                           0.91       114\n",
      "   macro avg       0.90      0.91      0.91       114\n",
      "weighted avg       0.91      0.91      0.91       114\n",
      "\n",
      "\n",
      "Random Forest Classification Report:\n",
      "               precision    recall  f1-score   support\n",
      "\n",
      "           0       0.91      0.95      0.93        42\n",
      "           1       0.97      0.94      0.96        72\n",
      "\n",
      "    accuracy                           0.95       114\n",
      "   macro avg       0.94      0.95      0.94       114\n",
      "weighted avg       0.95      0.95      0.95       114\n",
      "\n"
     ]
    }
   ],
   "execution_count": 108
  },
  {
   "metadata": {
    "ExecuteTime": {
     "end_time": "2025-02-05T01:52:57.732060Z",
     "start_time": "2025-02-05T01:52:56.938339Z"
    }
   },
   "cell_type": "code",
   "source": [
    "# Experimenting with different max_depth values for Decision Tree\n",
    "dt_results = {}\n",
    "for depth in [3, 5, 10, None]:  # None means no depth limit\n",
    "    dt = DecisionTreeClassifier(max_depth=depth)\n",
    "    dt.fit(X_train, y_train)\n",
    "    y_pred_dt = dt.predict(X_test)\n",
    "    dt_results[depth] = accuracy_score(y_test, y_pred_dt)\n",
    "\n",
    "print(\"\\nDecision Tree Accuracy for different max_depth values:\")\n",
    "for depth, acc in dt_results.items():\n",
    "    print(f\"max_depth={depth}: Accuracy={acc:.4f}\")\n",
    "\n",
    "# Experimenting with different max_depth and min_samples_split for Random Forest\n",
    "rf_results = {}\n",
    "for depth in [3, 5, 10, None]:  # Try different max_depth values\n",
    "    for min_samples in [2, 5, 10]:  # Try different min_samples_split values\n",
    "        rf = RandomForestClassifier(n_estimators=100, max_depth=depth, min_samples_split=min_samples)\n",
    "        rf.fit(X_train, y_train)\n",
    "        y_pred_rf = rf.predict(X_test)\n",
    "        rf_results[(depth, min_samples)] = accuracy_score(y_test, y_pred_rf)\n",
    "\n",
    "print(\"\\nRandom Forest Accuracy for different max_depth and min_samples_split values:\")\n",
    "for (depth, min_samples), acc in rf_results.items():\n",
    "    print(f\"max_depth={depth}, min_samples_split={min_samples}: Accuracy={acc:.4f}\")"
   ],
   "id": "16d0c67115aeeb5c",
   "outputs": [
    {
     "name": "stdout",
     "output_type": "stream",
     "text": [
      "\n",
      "Decision Tree Accuracy for different max_depth values:\n",
      "max_depth=3: Accuracy=0.9211\n",
      "max_depth=5: Accuracy=0.9298\n",
      "max_depth=10: Accuracy=0.9298\n",
      "max_depth=None: Accuracy=0.9123\n",
      "\n",
      "Random Forest Accuracy for different max_depth and min_samples_split values:\n",
      "max_depth=3, min_samples_split=2: Accuracy=0.9386\n",
      "max_depth=3, min_samples_split=5: Accuracy=0.9386\n",
      "max_depth=3, min_samples_split=10: Accuracy=0.9474\n",
      "max_depth=5, min_samples_split=2: Accuracy=0.9561\n",
      "max_depth=5, min_samples_split=5: Accuracy=0.9474\n",
      "max_depth=5, min_samples_split=10: Accuracy=0.9386\n",
      "max_depth=10, min_samples_split=2: Accuracy=0.9474\n",
      "max_depth=10, min_samples_split=5: Accuracy=0.9386\n",
      "max_depth=10, min_samples_split=10: Accuracy=0.9386\n",
      "max_depth=None, min_samples_split=2: Accuracy=0.9474\n",
      "max_depth=None, min_samples_split=5: Accuracy=0.9561\n",
      "max_depth=None, min_samples_split=10: Accuracy=0.9386\n"
     ]
    }
   ],
   "execution_count": 109
  },
  {
   "metadata": {
    "ExecuteTime": {
     "end_time": "2025-02-05T01:52:57.767364Z",
     "start_time": "2025-02-05T01:52:57.758682Z"
    }
   },
   "cell_type": "code",
   "source": [
    "# More concise version of results\n",
    "from sklearn.metrics import accuracy_score, precision_score, recall_score, f1_score\n",
    "\n",
    "# Function to evaluate models\n",
    "def evaluate_model(name, y_test, y_pred):\n",
    "    return {\n",
    "        \"Model\": name,\n",
    "        \"Accuracy\": accuracy_score(y_test, y_pred),\n",
    "        \"Precision\": precision_score(y_test, y_pred),\n",
    "        \"Recall\": recall_score(y_test, y_pred),\n",
    "        \"F1-score\": f1_score(y_test, y_pred)\n",
    "    }\n",
    "\n",
    "# Evaluate each model\n",
    "knn_results = evaluate_model(\"KNN\", y_test, y_pred_knn)\n",
    "dt_results = evaluate_model(\"Decision Tree\", y_test, y_pred_dt)\n",
    "rf_results = evaluate_model(\"Random Forest\", y_test, y_pred_rf)\n",
    "\n",
    "# Create DataFrame for better visualization\n",
    "results_df = pd.DataFrame([knn_results, dt_results, rf_results])\n",
    "\n",
    "# Display results\n",
    "print(results_df)"
   ],
   "id": "470b9ffef9ef0a9a",
   "outputs": [
    {
     "name": "stdout",
     "output_type": "stream",
     "text": [
      "           Model  Accuracy  Precision    Recall  F1-score\n",
      "0            KNN  0.956140   0.946667  0.986111  0.965986\n",
      "1  Decision Tree  0.912281   0.942857  0.916667  0.929577\n",
      "2  Random Forest  0.938596   0.957746  0.944444  0.951049\n"
     ]
    }
   ],
   "execution_count": 110
  },
  {
   "metadata": {
    "ExecuteTime": {
     "end_time": "2025-02-05T01:52:57.912197Z",
     "start_time": "2025-02-05T01:52:57.769817Z"
    }
   },
   "cell_type": "code",
   "source": [
    "# Function to plot confusion matrix\n",
    "def plot_confusion_matrix(y_test, y_pred, model_name):\n",
    "    cm = confusion_matrix(y_test, y_pred)\n",
    "    plt.figure(figsize=(5, 4))\n",
    "    sns.heatmap(cm, annot=True, fmt=\"d\", cmap=\"Blues\", xticklabels=[\"Malignant\", \"Benign\"], yticklabels=[\"Malignant\", \"Benign\"])\n",
    "    plt.xlabel(\"Predicted Label\")\n",
    "    plt.ylabel(\"True Label\")\n",
    "    plt.title(f\"Confusion Matrix - {model_name}\")\n",
    "    plt.show()\n",
    "\n",
    "# Generate confusion matrices\n",
    "plot_confusion_matrix(y_test, y_pred_knn, \"KNN\")\n",
    "plot_confusion_matrix(y_test, y_pred_dt, \"Decision Tree\")\n",
    "plot_confusion_matrix(y_test, y_pred_rf, \"Random Forest\")"
   ],
   "id": "abb5b33630648e3f",
   "outputs": [
    {
     "data": {
      "text/plain": [
       "<Figure size 500x400 with 2 Axes>"
      ],
      "image/png": "[encoded data removed]"
     },
     "metadata": {},
     "output_type": "display_data"
    },
    {
     "data": {
      "text/plain": [
       "<Figure size 500x400 with 2 Axes>"
      ],
      "image/png": "[encoded data removed]"
     },
     "metadata": {},
     "output_type": "display_data"
    },
    {
     "data": {
      "text/plain": [
       "<Figure size 500x400 with 2 Axes>"
      ],
      "image/png": "[encoded data removed]"
     },
     "metadata": {},
     "output_type": "display_data"
    }
   ],
   "execution_count": 111
  },
  {
   "metadata": {
    "ExecuteTime": {
     "end_time": "2025-02-05T01:52:58.726889Z",
     "start_time": "2025-02-05T01:52:57.928138Z"
    }
   },
   "cell_type": "code",
   "source": [
    "# Hyperparameter variations\n",
    "knn_neighbors = [3, 5, 10, 15]\n",
    "dt_depths = [3, 5, 10, None]  # None means unlimited depth\n",
    "rf_depths = [3, 5, 10, None]\n",
    "rf_min_samples_splits = [2, 5, 10]\n",
    "\n",
    "# Store results\n",
    "knn_results = []\n",
    "dt_results = []\n",
    "rf_results = []\n",
    "\n",
    "# Experiment with different values of n_neighbors for KNN\n",
    "for k in knn_neighbors:\n",
    "    knn = KNeighborsClassifier(n_neighbors=k)\n",
    "    knn.fit(X_train_scaled, y_train)\n",
    "    y_pred = knn.predict(X_test_scaled)\n",
    "    acc = accuracy_score(y_test, y_pred)\n",
    "    knn_results.append({\"Model\": \"KNN\", \"n_neighbors\": k, \"Accuracy\": acc})\n",
    "\n",
    "# Experiment with different max_depth values for Decision Tree\n",
    "for depth in dt_depths:\n",
    "    dt = DecisionTreeClassifier(max_depth=depth)\n",
    "    dt.fit(X_train, y_train)\n",
    "    y_pred = dt.predict(X_test)\n",
    "    acc = accuracy_score(y_test, y_pred)\n",
    "    dt_results.append({\"Model\": \"Decision Tree\", \"max_depth\": depth, \"Accuracy\": acc})\n",
    "\n",
    "# Experiment with different max_depth and min_samples_split for Random Forest\n",
    "for depth in rf_depths:\n",
    "    for min_samples in rf_min_samples_splits:\n",
    "        rf = RandomForestClassifier(n_estimators=100, max_depth=depth, min_samples_split=min_samples)\n",
    "        rf.fit(X_train, y_train)\n",
    "        y_pred = rf.predict(X_test)\n",
    "        acc = accuracy_score(y_test, y_pred)\n",
    "        rf_results.append({\"Model\": \"Random Forest\", \"max_depth\": depth, \"min_samples_split\": min_samples, \"Accuracy\": acc})\n",
    "\n",
    "# Convert results to DataFrame for better visualization\n",
    "knn_df = pd.DataFrame(knn_results)\n",
    "dt_df = pd.DataFrame(dt_results)\n",
    "rf_df = pd.DataFrame(rf_results)\n",
    "\n",
    "# Display results\n",
    "print(\"\\nKNN Hyperparameter Impact:\\n\", knn_df)\n",
    "print(\"\\nDecision Tree Hyperparameter Impact:\\n\", dt_df)\n",
    "print(\"\\nRandom Forest Hyperparameter Impact:\\n\", rf_df)"
   ],
   "id": "5b451a7e5f442eab",
   "outputs": [
    {
     "name": "stdout",
     "output_type": "stream",
     "text": [
      "\n",
      "KNN Hyperparameter Impact:\n",
      "   Model  n_neighbors  Accuracy\n",
      "0   KNN            3   0.95614\n",
      "1   KNN            5   0.95614\n",
      "2   KNN           10   0.95614\n",
      "3   KNN           15   0.95614\n",
      "\n",
      "Decision Tree Hyperparameter Impact:\n",
      "            Model  max_depth  Accuracy\n",
      "0  Decision Tree        3.0  0.921053\n",
      "1  Decision Tree        5.0  0.929825\n",
      "2  Decision Tree       10.0  0.921053\n",
      "3  Decision Tree        NaN  0.938596\n",
      "\n",
      "Random Forest Hyperparameter Impact:\n",
      "             Model  max_depth  min_samples_split  Accuracy\n",
      "0   Random Forest        3.0                  2  0.938596\n",
      "1   Random Forest        3.0                  5  0.938596\n",
      "2   Random Forest        3.0                 10  0.938596\n",
      "3   Random Forest        5.0                  2  0.956140\n",
      "4   Random Forest        5.0                  5  0.938596\n",
      "5   Random Forest        5.0                 10  0.929825\n",
      "6   Random Forest       10.0                  2  0.938596\n",
      "7   Random Forest       10.0                  5  0.947368\n",
      "8   Random Forest       10.0                 10  0.929825\n",
      "9   Random Forest        NaN                  2  0.947368\n",
      "10  Random Forest        NaN                  5  0.956140\n",
      "11  Random Forest        NaN                 10  0.938596\n"
     ]
    }
   ],
   "execution_count": 112
  },
  {
   "metadata": {
    "ExecuteTime": {
     "end_time": "2025-02-05T01:52:58.742121Z",
     "start_time": "2025-02-05T01:52:58.741008Z"
    }
   },
   "cell_type": "code",
   "source": "",
   "id": "fa6576ad1de4f884",
   "outputs": [],
   "execution_count": null
  }
 ],
 "metadata": {
  "kernelspec": {
   "display_name": "Python 3",
   "language": "python",
   "name": "python3"
  },
  "language_info": {
   "codemirror_mode": {
    "name": "ipython",
    "version": 2
   },
   "file_extension": ".py",
   "mimetype": "text/x-python",
   "name": "python",
   "nbconvert_exporter": "python",
   "pygments_lexer": "ipython2",
   "version": "2.7.6"
  }
 },
 "nbformat": 4,
 "nbformat_minor": 5
}
